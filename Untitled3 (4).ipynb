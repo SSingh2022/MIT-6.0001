{
 "cells": [
  {
   "cell_type": "markdown",
   "metadata": {},
   "source": [
    "# Problem Set 0"
   ]
  },
  {
   "cell_type": "markdown",
   "metadata": {},
   "source": [
    "Write a program that does the following in order:\n",
    "1. Asks the user to enter a number “x” \n",
    "2. Asks the user to enter a number “y”\n",
    "3. Prints out number “x”, raised to the power “y”. \n",
    "4. Prints out the log (base 2) of “x”.\n"
   ]
  },
  {
   "cell_type": "code",
   "execution_count": 9,
   "metadata": {},
   "outputs": [
    {
     "name": "stdout",
     "output_type": "stream",
     "text": [
      "Enter number x: 2\n",
      "Enter number y: 3\n",
      "X**y = 8.0\n",
      "log(x) = 1.0\n"
     ]
    }
   ],
   "source": [
    "import math\n",
    "x = float(input(\"Enter number x: \"))\n",
    "y = float(input(\"Enter number y: \"))\n",
    "print(\"X**y = \" + str(x**y))\n",
    "print(\"log(x) = \" + str(math.log(2,x)))"
   ]
  }
 ],
 "metadata": {
  "kernelspec": {
   "display_name": "Python 3",
   "language": "python",
   "name": "python3"
  },
  "language_info": {
   "codemirror_mode": {
    "name": "ipython",
    "version": 3
   },
   "file_extension": ".py",
   "mimetype": "text/x-python",
   "name": "python",
   "nbconvert_exporter": "python",
   "pygments_lexer": "ipython3",
   "version": "3.6.9"
  }
 },
 "nbformat": 4,
 "nbformat_minor": 4
}
