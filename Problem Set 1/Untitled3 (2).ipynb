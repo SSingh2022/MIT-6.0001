{
 "cells": [
  {
   "cell_type": "markdown",
   "metadata": {},
   "source": [
    "# Problem Set 1: Question 1, Part B: "
   ]
  },
  {
   "cell_type": "markdown",
   "metadata": {},
   "source": [
    "In Part A, we unrealistically assumed that your salary didn’t change.  But you are an MIT graduate, and\n",
    "clearly you are going to be worth more to your company over time! So we are going to build on your\n",
    "solution to Part A by factoring in a raise every six months. \n",
    "In ps1b.py, copy your solution to Part A (as we are going to reuse much of that machinery).  Modify\n",
    "your program to include the following\n",
    "1. Have the user input a semi-annual salary raise semi_annual_raise (as a decimal percentage)\n",
    "2. After the 6th month, increase your salary by that percentage.  Do the same after the 12th month, the 18th month, and so on. \n",
    "Write a program to calculate how many months it will take you save up enough money for a down\n",
    "payment.  Like before, assume that your investments earn a return of r = 0.04 (or 4%) and the\n",
    "required down payment percentage is 0.25 (or 25%). Have the user enter the following variables:\n",
    "1. The starting annual salary (annual_salary)\n",
    "2. The percentage of salary to be saved (portion_saved)\n",
    "3. The cost of your dream home (total_cost)\n",
    "4. The semi annual salary raise (semi_annual_raise)"
   ]
  },
  {
   "cell_type": "code",
   "execution_count": 3,
   "metadata": {},
   "outputs": [
    {
     "name": "stdout",
     "output_type": "stream",
     "text": [
      "Enter your annual salary: 120000\n",
      "Enter the percent of your salary to save, as a decimal: .05\n",
      "Enter the cost of your dream home: 500000\n",
      "Enter the semi-annual raise, as a decimal:.03\n",
      "Number of months: 142\n"
     ]
    }
   ],
   "source": [
    "annual_salary = float(input(\"Enter your annual salary: \"))\n",
    "portion_saved = float(input(\"Enter the percent of your salary to save, as a decimal: \"))\n",
    "total_cost = float(input(\"Enter the cost of your dream home: \"))\n",
    "portion_down_payment = 0.25\n",
    "current_savings = 0\n",
    "semi_annual_raise = float(input(\"Enter the semi-annual raise, as a decimal:\"))\n",
    "down_payment = total_cost * portion_down_payment\n",
    "monthly_salary = annual_salary / 12\n",
    "r = .04\n",
    "number_of_months = 0\n",
    "while current_savings < down_payment:\n",
    "    current_savings += (r / 12 * current_savings)\n",
    "    current_savings += (portion_saved * monthly_salary)\n",
    "    number_of_months += 1\n",
    "    if number_of_months % 6 == 0:\n",
    "        monthly_salary += (monthly_salary * semi_annual_raise)\n",
    "print(\"Number of months:\", number_of_months)"
   ]
  },
  {
   "cell_type": "code",
   "execution_count": 4,
   "metadata": {},
   "outputs": [
    {
     "name": "stdout",
     "output_type": "stream",
     "text": [
      "Enter your annual salary: 80000\n",
      "Enter the percent of your salary to save, as a decimal: .1\n",
      "Enter the cost of your dream home: 800000\n",
      "Enter the semi-annual raise, as a decimal:.03\n",
      "Number of months: 159\n"
     ]
    }
   ],
   "source": [
    "annual_salary = float(input(\"Enter your annual salary: \"))\n",
    "portion_saved = float(input(\"Enter the percent of your salary to save, as a decimal: \"))\n",
    "total_cost = float(input(\"Enter the cost of your dream home: \"))\n",
    "portion_down_payment = 0.25\n",
    "current_savings = 0\n",
    "semi_annual_raise = float(input(\"Enter the semi-annual raise, as a decimal:\"))\n",
    "down_payment = total_cost * portion_down_payment\n",
    "monthly_salary = annual_salary / 12\n",
    "r = .04\n",
    "number_of_months = 0\n",
    "while current_savings < down_payment:\n",
    "    current_savings += (r / 12 * current_savings)\n",
    "    current_savings += (portion_saved * monthly_salary)\n",
    "    number_of_months += 1\n",
    "    if number_of_months % 6 == 0:\n",
    "        monthly_salary += (monthly_salary * semi_annual_raise)\n",
    "print(\"Number of months:\", number_of_months)"
   ]
  },
  {
   "cell_type": "code",
   "execution_count": 5,
   "metadata": {},
   "outputs": [
    {
     "name": "stdout",
     "output_type": "stream",
     "text": [
      "Enter your annual salary: 75000\n",
      "Enter the percent of your salary to save, as a decimal: .05\n",
      "Enter the cost of your dream home: 1500000\n",
      "Enter the semi-annual raise, as a decimal:.05\n",
      "Number of months: 261\n"
     ]
    }
   ],
   "source": [
    "annual_salary = float(input(\"Enter your annual salary: \"))\n",
    "portion_saved = float(input(\"Enter the percent of your salary to save, as a decimal: \"))\n",
    "total_cost = float(input(\"Enter the cost of your dream home: \"))\n",
    "portion_down_payment = 0.25\n",
    "current_savings = 0\n",
    "semi_annual_raise = float(input(\"Enter the semi-annual raise, as a decimal:\"))\n",
    "down_payment = total_cost * portion_down_payment\n",
    "monthly_salary = annual_salary / 12\n",
    "r = .04\n",
    "number_of_months = 0\n",
    "while current_savings < down_payment:\n",
    "    current_savings += (r / 12 * current_savings)\n",
    "    current_savings += (portion_saved * monthly_salary)\n",
    "    number_of_months += 1\n",
    "    if number_of_months % 6 == 0:\n",
    "        monthly_salary += (monthly_salary * semi_annual_raise)\n",
    "print(\"Number of months:\", number_of_months)"
   ]
  }
 ],
 "metadata": {
  "kernelspec": {
   "display_name": "Python 3",
   "language": "python",
   "name": "python3"
  },
  "language_info": {
   "codemirror_mode": {
    "name": "ipython",
    "version": 3
   },
   "file_extension": ".py",
   "mimetype": "text/x-python",
   "name": "python",
   "nbconvert_exporter": "python",
   "pygments_lexer": "ipython3",
   "version": "3.6.9"
  }
 },
 "nbformat": 4,
 "nbformat_minor": 4
}
