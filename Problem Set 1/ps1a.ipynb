{
 "cells": [
  {
   "cell_type": "markdown",
   "metadata": {},
   "source": [
    "# Problem Set 1: Question 1, Part A: House Hunting"
   ]
  },
  {
   "cell_type": "markdown",
   "metadata": {},
   "source": [
    "Part A: House Hunting\n",
    "You have graduated from MIT and now have a great job! You move to the San Francisco Bay Area and\n",
    "decide that you want to start saving to buy a house.  As housing prices are very high in the Bay Area,\n",
    "you realize you are going to have to save for several years before you can afford to make the down\n",
    "payment on a house. In Part A, we are going to determine how long it will take you to save enough\n",
    "money to make the down payment given the following assumptions:\n",
    "1. Call the cost of your dream home total_cost.\n",
    "2. Call the portion of the cost needed for a down payment portion_down_payment. For\n",
    "simplicity, assume that portion_down_payment = 0.25 (25%).\n",
    "3. Call the amount that you have saved thus far current_savings. You start with a current\n",
    "savings of $0. \n",
    "4. Assume that you invest your current savings wisely, with an annual return of r (in other words,\n",
    "at the end of each month, you receive an additional current_savings*r/12 funds to put into\n",
    "your savings – the 12 is because r is an annual rate). Assume that your investments earn a \n",
    "return of r = 0.04 (4%).\n",
    "5. Assume your annual salary is annual_salary.\n",
    "6. Assume you are going to dedicate a certain amount of your salary each month to saving for \n",
    "the down payment. Call that portion_saved. This variable should be in decimal form (i.e. 0.1\n",
    "for 10%). \n",
    "7. At the end of each month, your savings will be increased by the return on your investment,\n",
    "plus a percentage of your monthly salary (annual salary / 12).\n",
    "Write a program to calculate how many months it will take you to save up enough money for a down\n",
    "payment. You will want your main variables to be floats, so you should cast user inputs to floats.   \n",
    "1\n",
    "Your program should ask the user to enter the following variables:\n",
    "1. The starting annual salary (annual_salary)\n",
    "2. The portion of salary to be saved (portion_saved)\n",
    "3. The cost of your dream home (total_cost)"
   ]
  },
  {
   "cell_type": "code",
   "execution_count": 1,
   "metadata": {},
   "outputs": [
    {
     "name": "stdout",
     "output_type": "stream",
     "text": [
      "Enter your annual salary: 120000\n",
      "Enter the percent of your salary to save, as a decimal: 0.1\n",
      "Enter the cost of your dream home: 1000000\n",
      "Number of months: 183\n"
     ]
    }
   ],
   "source": [
    "annual_salary = float(input(\"Enter your annual salary: \"))\n",
    "portion_saved = float(input(\"Enter the percent of your salary to save, as a decimal: \"))\n",
    "total_cost = float(input(\"Enter the cost of your dream home: \"))\n",
    "portion_down_payment = 0.25\n",
    "current_savings = 0\n",
    "down_payment = total_cost * portion_down_payment\n",
    "monthly_salary = annual_salary / 12\n",
    "r = .04\n",
    "number_of_months = 0\n",
    "while current_savings < down_payment:\n",
    "    current_savings += (r / 12 * current_savings)\n",
    "    current_savings += (portion_saved * monthly_salary)\n",
    "    number_of_months += 1\n",
    "print(\"Number of months:\", number_of_months)"
   ]
  },
  {
   "cell_type": "code",
   "execution_count": 2,
   "metadata": {},
   "outputs": [
    {
     "name": "stdout",
     "output_type": "stream",
     "text": [
      "Enter your annual salary: 80000\n",
      "Enter the percent of your salary to save, as a decimal: .15\n",
      "Enter the cost of your dream home: 500000\n",
      "Number of months: 105\n"
     ]
    }
   ],
   "source": [
    "annual_salary = float(input(\"Enter your annual salary: \"))\n",
    "portion_saved = float(input(\"Enter the percent of your salary to save, as a decimal: \"))\n",
    "total_cost = float(input(\"Enter the cost of your dream home: \"))\n",
    "portion_down_payment = 0.25\n",
    "current_savings = 0\n",
    "down_payment = total_cost * portion_down_payment\n",
    "monthly_salary = annual_salary / 12\n",
    "r = .04\n",
    "number_of_months = 0\n",
    "while current_savings < down_payment:\n",
    "    current_savings += (r / 12 * current_savings)\n",
    "    current_savings += (portion_saved * monthly_salary)\n",
    "    number_of_months += 1\n",
    "print(\"Number of months:\", number_of_months)"
   ]
  },
  {
   "cell_type": "code",
   "execution_count": null,
   "metadata": {},
   "outputs": [],
   "source": []
  }
 ],
 "metadata": {
  "kernelspec": {
   "display_name": "Python 3",
   "language": "python",
   "name": "python3"
  },
  "language_info": {
   "codemirror_mode": {
    "name": "ipython",
    "version": 3
   },
   "file_extension": ".py",
   "mimetype": "text/x-python",
   "name": "python",
   "nbconvert_exporter": "python",
   "pygments_lexer": "ipython3",
   "version": "3.6.9"
  }
 },
 "nbformat": 4,
 "nbformat_minor": 4
}
