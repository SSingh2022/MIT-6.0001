{
 "cells": [
  {
   "cell_type": "markdown",
   "metadata": {},
   "source": [
    "# Problem Set 1: Question 1, Part C: "
   ]
  },
  {
   "cell_type": "markdown",
   "metadata": {},
   "source": [
    "In Part B, you had a chance to explore how both the percentage of your salary that you save each month \n",
    "and your annual raise affect how long it takes you to save for a down payment.  This is nice, but\n",
    "suppose you want to set a particular goal, e.g. to be able to afford the down payment in three years.\n",
    "How much should you save each month to achieve this?  In this problem, you are going to write a \n",
    "program to answer that question.  To simplify things, assume:\n",
    "3\n",
    "1. Your semi-annual raise is .07 (7%)\n",
    "2. Your investments have an annual return of 0.04 (4%)  \n",
    "3. The down payment is 0.25 (25%) of the cost of the house \n",
    "4. The cost of the house that you are saving for is 1M dollars.\n",
    "You are now going to try to find the best rate of savings to achieve a down payment on a 1M dollar house in \n",
    "36 months. Since hitting this exactly is a challenge, we simply want your savings to be within 100 dollars of \n",
    "the required down payment. \n",
    "In ps1c.py, write a program to calculate the best savings rate, as a function of your starting salary.\n",
    "You should use bisection search to help you do this efficiently. You should keep track of the number of \n",
    "steps it takes your bisections search to finish. You should be able to reuse some of the code you wrote\n",
    "for part B in this problem.  \n",
    "Because we are searching for a value that is in principle a float, we are going to limit ourselves to two\n",
    "decimals of accuracy (i.e., we may want to save at 7.04% -- or 0.0704 in decimal – but we are not \n",
    "going to worry about the difference between 7.041% and 7.039%).  This means we can search for an\n",
    "integer between 0 and 10000 (using integer division), and then convert it to a decimal percentage\n",
    "(using float division) to use when we are calculating the current_savings after 36 months. By using\n",
    "this range, there are only a finite number of numbers that we are searching over, as opposed to the\n",
    "infinite number of decimals between 0 and 1. This range will help prevent infinite loops. The reason we\n",
    "use 0 to 10000 is to account for two additional decimal places in the range 0% to 100%. Your code\n",
    "should print out a decimal (e.g. 0.0704 for 7.04%).\n",
    "Try different inputs for your starting salary, and see how the percentage you need to save changes to\n",
    "reach your desired down payment.  Also keep in mind it may not be possible for to save a down\n",
    "payment in a year and a half for some salaries. In this case your function should notify the user that it \n",
    "is not possible to save for the down payment in 36 months with a print statement. Please make your\n",
    "program print results in the format shown in the test cases below.   \n",
    "Note: There are multiple right ways to implement bisection search/number of steps so your\n",
    "results may not perfectly match those of the test case."
   ]
  },
  {
   "cell_type": "code",
   "execution_count": 6,
   "metadata": {},
   "outputs": [
    {
     "name": "stdout",
     "output_type": "stream",
     "text": [
      "Enter the starting salary: 150000\n",
      "Best savings rate: 0.453125\n",
      "Steps in bisection search: 6\n"
     ]
    }
   ],
   "source": [
    "semi_annual_raise = .07\n",
    "r = .04\n",
    "total_cost = 1000000\n",
    "down_payment = 0.25*total_cost\n",
    "starting_salary = float(input(\"Enter the starting salary: \"))\n",
    "monthly_salary = starting_salary / 12\n",
    "number_of_months = 0\n",
    "num_guesses = 0\n",
    "current_savings = 0\n",
    "low =  0\n",
    "high = 10000\n",
    "portion_saved = float(((high + low)/2)/10000)\n",
    "while number_of_months != 36:\n",
    "    number_of_months = 0\n",
    "    monthly_salary = starting_salary / 12\n",
    "    num_guesses += 1\n",
    "    while current_savings < down_payment - 100:\n",
    "        current_savings += (r / 12 * current_savings)\n",
    "        current_savings += (portion_saved * monthly_salary)\n",
    "        number_of_months += 1\n",
    "        if number_of_months % 6 == 0:\n",
    "            monthly_salary += (monthly_salary * semi_annual_raise)\n",
    "    if number_of_months < 36:\n",
    "        high = portion_saved\n",
    "    elif number_of_months > 36:\n",
    "        low = portion_saved\n",
    "    portion_saved = (high + low)/2\n",
    "    current_savings = 0\n",
    "if portion_saved >= 1.00:\n",
    "    print(\"It is not possible to pay the down payment in three years.\")\n",
    "else:\n",
    "    print(\"Best savings rate:\", portion_saved)\n",
    "    print(\"Steps in bisection search:\", num_guesses)"
   ]
  },
  {
   "cell_type": "code",
   "execution_count": 7,
   "metadata": {},
   "outputs": [
    {
     "name": "stdout",
     "output_type": "stream",
     "text": [
      "Enter the starting salary: 300000\n",
      "Best savings rate: 0.2265625\n",
      "Steps in bisection search: 7\n"
     ]
    }
   ],
   "source": [
    "semi_annual_raise = .07\n",
    "r = .04\n",
    "total_cost = 1000000\n",
    "down_payment = 0.25*total_cost\n",
    "starting_salary = float(input(\"Enter the starting salary: \"))\n",
    "monthly_salary = starting_salary / 12\n",
    "number_of_months = 0\n",
    "num_guesses = 0\n",
    "current_savings = 0\n",
    "low =  0\n",
    "high = 10000\n",
    "portion_saved = float(((high + low)/2)/10000)\n",
    "while number_of_months != 36:\n",
    "    number_of_months = 0\n",
    "    monthly_salary = starting_salary / 12\n",
    "    num_guesses += 1\n",
    "    while current_savings < down_payment - 100:\n",
    "        current_savings += (r / 12 * current_savings)\n",
    "        current_savings += (portion_saved * monthly_salary)\n",
    "        number_of_months += 1\n",
    "        if number_of_months % 6 == 0:\n",
    "            monthly_salary += (monthly_salary * semi_annual_raise)\n",
    "    if number_of_months < 36:\n",
    "        high = portion_saved\n",
    "    elif number_of_months > 36:\n",
    "        low = portion_saved\n",
    "    portion_saved = (high + low)/2\n",
    "    current_savings = 0\n",
    "if portion_saved >= 1.00:\n",
    "    print(\"It is not possible to pay the down payment in three years.\")\n",
    "else:\n",
    "    print(\"Best savings rate:\", portion_saved)\n",
    "    print(\"Steps in bisection search:\", num_guesses)"
   ]
  },
  {
   "cell_type": "code",
   "execution_count": 8,
   "metadata": {},
   "outputs": [
    {
     "name": "stdout",
     "output_type": "stream",
     "text": [
      "Enter the starting salary: 10000\n",
      "It is not possible to pay the down payment in three years.\n"
     ]
    }
   ],
   "source": [
    "semi_annual_raise = .07\n",
    "r = .04\n",
    "total_cost = 1000000\n",
    "down_payment = 0.25*total_cost\n",
    "starting_salary = float(input(\"Enter the starting salary: \"))\n",
    "monthly_salary = starting_salary / 12\n",
    "number_of_months = 0\n",
    "num_guesses = 0\n",
    "current_savings = 0\n",
    "low =  0\n",
    "high = 10000\n",
    "portion_saved = float(((high + low)/2)/10000)\n",
    "while number_of_months != 36:\n",
    "    number_of_months = 0\n",
    "    monthly_salary = starting_salary / 12\n",
    "    num_guesses += 1\n",
    "    while current_savings < down_payment - 100:\n",
    "        current_savings += (r / 12 * current_savings)\n",
    "        current_savings += (portion_saved * monthly_salary)\n",
    "        number_of_months += 1\n",
    "        if number_of_months % 6 == 0:\n",
    "            monthly_salary += (monthly_salary * semi_annual_raise)\n",
    "    if number_of_months < 36:\n",
    "        high = portion_saved\n",
    "    elif number_of_months > 36:\n",
    "        low = portion_saved\n",
    "    portion_saved = (high + low)/2\n",
    "    current_savings = 0\n",
    "if portion_saved >= 1.00:\n",
    "    print(\"It is not possible to pay the down payment in three years.\")\n",
    "else:\n",
    "    print(\"Best savings rate:\", portion_saved)\n",
    "    print(\"Steps in bisection search:\", num_guesses)"
   ]
  }
 ],
 "metadata": {
  "kernelspec": {
   "display_name": "Python 3",
   "language": "python",
   "name": "python3"
  },
  "language_info": {
   "codemirror_mode": {
    "name": "ipython",
    "version": 3
   },
   "file_extension": ".py",
   "mimetype": "text/x-python",
   "name": "python",
   "nbconvert_exporter": "python",
   "pygments_lexer": "ipython3",
   "version": "3.6.9"
  }
 },
 "nbformat": 4,
 "nbformat_minor": 4
}
